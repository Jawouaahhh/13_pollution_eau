{
 "cells": [
  {
   "cell_type": "code",
   "execution_count": null,
   "metadata": {},
   "outputs": [],
   "source": [
    "import pandas as pd\n",
    "import json\n",
    "from pipelines.tasks.geojson_processor import GeoJSONProcessor\n",
    "from pipelines.tasks.config.common import CACHE_FOLDER\n",
    "import os\n",
    "\n",
    "# Create sample data\n",
    "sample_geojson = {\n",
    "    \"type\": \"FeatureCollection\",\n",
    "    \"features\": [\n",
    "        {\n",
    "            \"type\": \"Feature\",\n",
    "            \"properties\": {\"com_code\": [\"12345\"], \"com_name\": [\"Test Commune\"]},\n",
    "            \"geometry\": {\n",
    "                \"type\": \"Polygon\",\n",
    "                \"coordinates\": [[[0, 0], [1, 0], [1, 1], [0, 1], [0, 0]]],\n",
    "            },\n",
    "        }\n",
    "    ],\n",
    "}\n",
    "\n",
    "# Create sample results DataFrame\n",
    "sample_results = pd.DataFrame(\n",
    "    {\"commune_code_insee\": [\"12345\"], \"annee\": [\"2023\"], \"resultat_cvm\": [\"HIGH\"]}\n",
    ")\n",
    "\n",
    "# Save sample GeoJSON to file\n",
    "input_geojson_path = os.path.join(CACHE_FOLDER, \"test_input.geojson\")\n",
    "with open(input_geojson_path, \"w\") as f:\n",
    "    json.dump(sample_geojson, f)\n",
    "\n",
    "# Initialize processor\n",
    "processor = GeoJSONProcessor()\n",
    "\n",
    "# Process the data\n",
    "output_path = os.path.join(CACHE_FOLDER, \"test_output.geojson\")\n",
    "result = processor.merge_geojson_with_results(\n",
    "    geojson_path=input_geojson_path, results_df=sample_results, output_path=output_path\n",
    ")\n",
    "\n",
    "# Verify the result\n",
    "with open(output_path, \"r\") as f:\n",
    "    output_data = json.load(f)\n",
    "\n",
    "print(\"Output GeoJSON structure:\")\n",
    "print(json.dumps(output_data, indent=2))"
   ]
  }
 ],
 "metadata": {
  "kernelspec": {
   "display_name": ".venv",
   "language": "python",
   "name": "python3"
  },
  "language_info": {
   "codemirror_mode": {
    "name": "ipython",
    "version": 3
   },
   "file_extension": ".py",
   "mimetype": "text/x-python",
   "name": "python",
   "nbconvert_exporter": "python",
   "pygments_lexer": "ipython3",
   "version": "3.12.7"
  }
 },
 "nbformat": 4,
 "nbformat_minor": 2
}

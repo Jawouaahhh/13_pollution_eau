{
 "cells": [
  {
   "cell_type": "code",
   "execution_count": 8,
   "metadata": {},
   "outputs": [],
   "source": [
    "import duckdb\n",
    "from pipelines.tasks.config.common import DUCKDB_FILE\n",
    "from pipelines.tasks.client.https_client import HTTPSClient\n",
    "from pipelines.tasks.config.common import CACHE_FOLDER\n",
    "import json\n",
    "import os\n",
    "from tqdm import tqdm\n",
    "import pandas as pd\n",
    "import geopandas as gpd"
   ]
  },
  {
   "cell_type": "code",
   "execution_count": 9,
   "metadata": {},
   "outputs": [],
   "source": [
    "# la donnée geo est telechargé depuis https://public.opendatasoft.com/explore/dataset/georef-france-commune/information\n",
    "https_client = HTTPSClient(\n",
    "    \"https://public.opendatasoft.com/api/explore/v2.1/catalog/datasets/\"\n",
    ")"
   ]
  },
  {
   "cell_type": "code",
   "execution_count": 6,
   "metadata": {},
   "outputs": [
    {
     "name": "stderr",
     "output_type": "stream",
     "text": [
      "Processing file georef-france-commune.geojson: |                                         | 285M/0.00\n"
     ]
    },
    {
     "data": {
      "text/plain": [
       "'georef-france-commune.geojson'"
      ]
     },
     "execution_count": 6,
     "metadata": {},
     "output_type": "execute_result"
    }
   ],
   "source": [
    "path = \"georef-france-commune/exports/geojson?lang=fr&timezone=Africa%2FLagos\"\n",
    "filepath = os.path.join(CACHE_FOLDER, \"georef-france-commune.geojson\")\n",
    "https_client.download_file_from_https(path, filepath)"
   ]
  },
  {
   "cell_type": "code",
   "execution_count": 7,
   "metadata": {},
   "outputs": [
    {
     "name": "stdout",
     "output_type": "stream",
     "text": [
      "/Users/jaouadsalahy/Documents/IT/13_pollution_eau/database/cache\n",
      "/Users/jaouadsalahy/Documents/IT/13_pollution_eau/database/cache/georef-france-commune.geojson\n"
     ]
    }
   ],
   "source": [
    "print(CACHE_FOLDER)\n",
    "print(filepath)"
   ]
  },
  {
   "cell_type": "code",
   "execution_count": 10,
   "metadata": {},
   "outputs": [],
   "source": [
    "con = duckdb.connect(database=DUCKDB_FILE, read_only=True)"
   ]
  },
  {
   "cell_type": "code",
   "execution_count": 11,
   "metadata": {},
   "outputs": [
    {
     "data": {
      "text/html": [
       "<div>\n",
       "<style scoped>\n",
       "    .dataframe tbody tr th:only-of-type {\n",
       "        vertical-align: middle;\n",
       "    }\n",
       "\n",
       "    .dataframe tbody tr th {\n",
       "        vertical-align: top;\n",
       "    }\n",
       "\n",
       "    .dataframe thead th {\n",
       "        text-align: right;\n",
       "    }\n",
       "</style>\n",
       "<table border=\"1\" class=\"dataframe\">\n",
       "  <thead>\n",
       "    <tr style=\"text-align: right;\">\n",
       "      <th></th>\n",
       "      <th>name</th>\n",
       "    </tr>\n",
       "  </thead>\n",
       "  <tbody>\n",
       "    <tr>\n",
       "      <th>0</th>\n",
       "      <td>cog_communes</td>\n",
       "    </tr>\n",
       "    <tr>\n",
       "      <th>1</th>\n",
       "      <td>edc_communes</td>\n",
       "    </tr>\n",
       "    <tr>\n",
       "      <th>2</th>\n",
       "      <td>edc_prelevements</td>\n",
       "    </tr>\n",
       "    <tr>\n",
       "      <th>3</th>\n",
       "      <td>edc_resultats</td>\n",
       "    </tr>\n",
       "    <tr>\n",
       "      <th>4</th>\n",
       "      <td>laposte_communes</td>\n",
       "    </tr>\n",
       "  </tbody>\n",
       "</table>\n",
       "</div>"
      ],
      "text/plain": [
       "               name\n",
       "0      cog_communes\n",
       "1      edc_communes\n",
       "2  edc_prelevements\n",
       "3     edc_resultats\n",
       "4  laposte_communes"
      ]
     },
     "execution_count": 11,
     "metadata": {},
     "output_type": "execute_result"
    }
   ],
   "source": [
    "# Show all tables in the database\n",
    "query = \"\"\"\n",
    "SHOW TABLES;\n",
    "\"\"\"\n",
    "\n",
    "tables = con.sql(query)\n",
    "tables_df = tables.df()\n",
    "tables_df"
   ]
  },
  {
   "cell_type": "code",
   "execution_count": null,
   "metadata": {},
   "outputs": [],
   "source": [
    "query_2024 = \"\"\"\n",
    "select * from ana__resultats_communes\n",
    "\"\"\"\n",
    "\n",
    "prelevements_2024 = con.sql(query_2024)\n",
    "prelevements_2024_df = prelevements_2024.df()\n",
    "prelevements_2024_df.head(2)"
   ]
  },
  {
   "cell_type": "code",
   "execution_count": 13,
   "metadata": {},
   "outputs": [
    {
     "name": "stdout",
     "output_type": "stream",
     "text": [
      "Top-level GeoJSON structure:\n",
      "----------------------------------------\n",
      "- type: FeatureCollection\n",
      "- features: Array with 34948 features\n"
     ]
    }
   ],
   "source": [
    "with open(os.path.join(CACHE_FOLDER, \"georef-france-commune.geojson\"), \"r\") as file:\n",
    "    data_geo = json.load(file)\n",
    "    print(\"Top-level GeoJSON structure:\")\n",
    "    print(\"-\" * 40)\n",
    "    for key, value in data_geo.items():\n",
    "        if key == \"features\":\n",
    "            print(f\"- {key}: Array with {len(value)} features\")\n",
    "        elif key == \"crs\":\n",
    "            print(f\"- {key}:\")\n",
    "            print(json.dumps(value, indent=2))\n",
    "        else:\n",
    "            print(f\"- {key}: {value}\")\n"
   ]
  },
  {
   "cell_type": "code",
   "execution_count": 14,
   "metadata": {},
   "outputs": [
    {
     "name": "stdout",
     "output_type": "stream",
     "text": [
      "GeoJSON Structure:\n",
      "----------------------------------------\n",
      "- type: FeatureCollection\n",
      "- features:\n",
      "  List with 34948 items\n",
      "  First item:\n",
      "    - type: Feature\n",
      "    - geometry:\n",
      "      - coordinates:\n",
      "        List with 1 items\n",
      "        First item:\n",
      "          List with 254 items\n",
      "          First item:\n",
      "            List with 2 items\n",
      "            First item:\n",
      "      - type: Polygon\n",
      "    - properties:\n",
      "      - geo_point_2d:\n",
      "        - lon: 2.063226732075124\n",
      "        - lat: 45.445282333838946\n",
      "      - year: 2024\n",
      "      - reg_code:\n",
      "        List with 1 items\n",
      "        First item:\n",
      "      - reg_name:\n",
      "        List with 1 items\n",
      "        First item:\n",
      "      - dep_code:\n",
      "        List with 1 items\n",
      "        First item:\n",
      "      - dep_name:\n",
      "        List with 1 items\n",
      "        First item:\n",
      "      - arrdep_code:\n",
      "        List with 1 items\n",
      "        First item:\n",
      "      - arrdep_name:\n",
      "        List with 1 items\n",
      "        First item:\n",
      "      - ze2020_code:\n",
      "        List with 1 items\n",
      "        First item:\n",
      "      - ze2020_name:\n",
      "        List with 1 items\n",
      "        First item:\n",
      "      - bv2022_code:\n",
      "        List with 1 items\n",
      "        First item:\n",
      "      - bv2022_name:\n",
      "        List with 1 items\n",
      "        First item:\n",
      "      - epci_code:\n",
      "        List with 1 items\n",
      "        First item:\n",
      "      - epci_name:\n",
      "        List with 1 items\n",
      "        First item:\n",
      "      - ept_code: None\n",
      "      - ept_name: None\n",
      "      - com_code:\n",
      "        List with 1 items\n",
      "        First item:\n",
      "      - com_current_code:\n",
      "        List with 1 items\n",
      "        First item:\n",
      "      - com_name:\n",
      "        List with 1 items\n",
      "        First item:\n",
      "      - com_name_upper: SOUDEILLES\n",
      "      - com_name_lower: soudeilles\n",
      "      - com_area_code: FXX\n",
      "      - com_type: commune\n",
      "      - ze2010_name: None\n",
      "      - ze2010_code: None\n",
      "      - com_cataeu2010_code: None\n",
      "      - com_cataeu2010_name: None\n",
      "      - com_uu2010_code: None\n",
      "      - com_uu2010_status: None\n",
      "      - com_au2010_code: None\n",
      "      - com_cateaav2020_code: 20\n",
      "      - com_cateaav2020_name: Commune de la couronne\n",
      "      - com_uu2020_code: 19000\n",
      "      - com_uu2020_status: hors unité urbaine\n",
      "      - com_aav2020_code: 499\n",
      "      - com_cv_code: 1912\n",
      "      - com_in_ctu: Non\n",
      "      - com_siren_code: None\n",
      "      - com_is_mountain_area: Oui\n"
     ]
    }
   ],
   "source": [
    "def parse_geojson_structure(data, level=0, max_items=1):\n",
    "    \"\"\"\n",
    "    Recursively parse GeoJSON structure and print key-value pairs\n",
    "    Args:\n",
    "        data: dictionary or value to parse\n",
    "        level: current indentation level\n",
    "        max_items: maximum number of items to show for lists\n",
    "    \"\"\"\n",
    "    indent = \"  \" * level\n",
    "\n",
    "    if isinstance(data, dict):\n",
    "        for key, value in data.items():\n",
    "            if isinstance(value, (dict, list)):\n",
    "                print(f\"{indent}- {key}:\")\n",
    "                parse_geojson_structure(value, level + 1, max_items)\n",
    "            else:\n",
    "                print(f\"{indent}- {key}: {value}\")\n",
    "\n",
    "    elif isinstance(data, list):\n",
    "        print(f\"{indent}List with {len(data)} items\")\n",
    "        if data and max_items > 0:\n",
    "            print(f\"{indent}First item:\")\n",
    "            parse_geojson_structure(data[0], level + 1, max_items)\n",
    "\n",
    "\n",
    "# Read and parse the GeoJSON\n",
    "with open(os.path.join(CACHE_FOLDER, \"georef-france-commune.geojson\"), \"r\") as file:\n",
    "    data_geo = json.load(file)\n",
    "    print(\"GeoJSON Structure:\")\n",
    "    print(\"-\" * 40)\n",
    "    parse_geojson_structure(data_geo)\n"
   ]
  },
  {
   "cell_type": "code",
   "execution_count": null,
   "metadata": {},
   "outputs": [],
   "source": [
    "with open(os.path.join(CACHE_FOLDER, \"georef-france-commune.geojson\"), \"r\") as file:\n",
    "    data_geo = json.load(file)\n",
    "    # Read the GeoJSON file\n",
    "    # gdf = gpd.read_file(os.path.join(CACHE_FOLDER, \"georef-france-commune.geojson\"))\n",
    "\n",
    "    gdf = gpd.read_file(\n",
    "        os.path.join(CACHE_FOLDER, \"georef-france-commune.geojson\"),\n",
    "        dtype={\n",
    "            \"reg_code\": str,\n",
    "            \"reg_name\": str,\n",
    "            \"dep_code\": str,\n",
    "            \"dep_name\": str,\n",
    "            \"arrdep_code\": str,\n",
    "            \"arrdep_name\": str,\n",
    "            \"ze2020_code\": str,\n",
    "            \"ze2020_name\": str,\n",
    "            \"bv2022_code\": str,\n",
    "            \"bv2022_name\": str,\n",
    "            \"epci_code\": str,\n",
    "            \"epci_name\": str,\n",
    "            \"ept_code\": str,\n",
    "            \"ept_name\": str,\n",
    "            \"com_code\": str,\n",
    "            \"com_current_code\": str,\n",
    "            \"com_name\": str,\n",
    "        },\n",
    "    )\n",
    "\n",
    "    # Print basic information about the GeoJSON\n",
    "    # print(\"GeoJSON Info:\")\n",
    "    # print(\"-\" * 40)\n",
    "    # print(f\"Number of features: {len(gdf)}\")"
   ]
  },
  {
   "cell_type": "code",
   "execution_count": 15,
   "metadata": {},
   "outputs": [
    {
     "name": "stdout",
     "output_type": "stream",
     "text": [
      "Column Data Types:\n",
      "--------------------------------------------------\n"
     ]
    },
    {
     "ename": "NameError",
     "evalue": "name 'gdf' is not defined",
     "output_type": "error",
     "traceback": [
      "\u001b[0;31m---------------------------------------------------------------------------\u001b[0m",
      "\u001b[0;31mNameError\u001b[0m                                 Traceback (most recent call last)",
      "Cell \u001b[0;32mIn[15], line 4\u001b[0m\n\u001b[1;32m      2\u001b[0m \u001b[38;5;28mprint\u001b[39m(\u001b[38;5;124m\"\u001b[39m\u001b[38;5;124mColumn Data Types:\u001b[39m\u001b[38;5;124m\"\u001b[39m)\n\u001b[1;32m      3\u001b[0m \u001b[38;5;28mprint\u001b[39m(\u001b[38;5;124m\"\u001b[39m\u001b[38;5;124m-\u001b[39m\u001b[38;5;124m\"\u001b[39m \u001b[38;5;241m*\u001b[39m \u001b[38;5;241m50\u001b[39m)\n\u001b[0;32m----> 4\u001b[0m \u001b[38;5;28mprint\u001b[39m(\u001b[43mgdf\u001b[49m\u001b[38;5;241m.\u001b[39mdtypes)\n",
      "\u001b[0;31mNameError\u001b[0m: name 'gdf' is not defined"
     ]
    }
   ],
   "source": [
    "# Print data types of all columns\n",
    "print(\"Column Data Types:\")\n",
    "print(\"-\" * 50)\n",
    "print(gdf.dtypes)\n"
   ]
  },
  {
   "cell_type": "code",
   "execution_count": null,
   "metadata": {},
   "outputs": [],
   "source": [
    "# For a more detailed view with null counts\n",
    "print(\"\\nDetailed DataFrame Info:\")\n",
    "print(\"-\" * 50)\n",
    "gdf.info()\n"
   ]
  },
  {
   "cell_type": "code",
   "execution_count": null,
   "metadata": {},
   "outputs": [],
   "source": [
    "# Specific information about the geometry column\n",
    "print(\"\\nGeometry Column Info:\")\n",
    "print(\"-\" * 50)\n",
    "print(f\"Geometry type: {gdf.geometry.geom_type.unique()}\")\n",
    "print(f\"CRS: {gdf.crs}\")\n"
   ]
  },
  {
   "cell_type": "code",
   "execution_count": null,
   "metadata": {},
   "outputs": [],
   "source": [
    "# Si la solution est validée, il faudra optimiser ce code qui est bien trop lent\n",
    "data_geo_features = data_geo[\"features\"]\n",
    "default_properties = {\"annee\": \"2024\", \"resultat_cvm\": \"None\"}\n",
    "for i in tqdm(range(len(data_geo_features))):\n",
    "    elem = data_geo_features[i]\n",
    "    code_insee = elem[\"properties\"][\"com_code\"]\n",
    "    name_insee = elem[\"properties\"][\"com_name\"]\n",
    "    if code_insee is not None:\n",
    "        code_insee = code_insee[0]\n",
    "        name_insee = name_insee[0]\n",
    "        prelevement = prelevements_2024_df[\n",
    "            (prelevements_2024_df.commune_code_insee == code_insee)\n",
    "        ]\n",
    "        if len(prelevement) >= 0:\n",
    "            properties = {}\n",
    "            properties[\"commune_code_insee\"] = code_insee\n",
    "            properties[\"commune_nom\"] = name_insee\n",
    "            properties[\"resultat_cvm\"] = {}\n",
    "            for index, row in prelevement.iterrows():\n",
    "                properties[\"resultat_cvm\"][row[\"annee\"]] = row[\"resultat_cvm\"]\n",
    "            elem[\"properties\"] = properties\n",
    "        else:\n",
    "            # print(\"elem not found\")\n",
    "            elem[\"properties\"] = default_properties\n",
    "            elem[\"properties\"][\"commune_code_insee\"] = code_insee\n",
    "            elem[\"properties\"][\"commune_nom\"] = name_insee"
   ]
  },
  {
   "cell_type": "code",
   "execution_count": null,
   "metadata": {},
   "outputs": [],
   "source": [
    "new_geo_json = {\"type\": \"FeatureCollection\"}\n",
    "new_geo_json[\"features\"] = data_geo_features"
   ]
  },
  {
   "cell_type": "code",
   "execution_count": null,
   "metadata": {},
   "outputs": [],
   "source": [
    "# Write the dictionary to a GeoJSON file\n",
    "filename = \"georef-france-commune-prelevement.geojson\"\n",
    "write_filepath = os.path.join(CACHE_FOLDER, filename)\n",
    "with open(\n",
    "    write_filepath,\n",
    "    \"w\",\n",
    "    encoding=\"utf-8\",\n",
    ") as file:\n",
    "    json.dump(new_geo_json, file)"
   ]
  },
  {
   "cell_type": "code",
   "execution_count": null,
   "metadata": {},
   "outputs": [],
   "source": [
    "from pipelines.utils.storage_client import ObjectStorageClient\n",
    "from pipelines.config.config import load_env_variables\n",
    "\n",
    "load_env_variables()\n",
    "s3 = ObjectStorageClient()\n",
    "\n",
    "db_path = DUCKDB_FILE  # Fichier local\n",
    "s3_path = \"dev/geojson/georef-france-commune-prelevement.geojson.removeme\"  # Destination sur S3\n",
    "\n",
    "s3.upload_object(local_path=write_filepath, file_key=s3_path, public_read=True)\n",
    "print(f\"✅ geojson uploadée sur s3://{s3.bucket_name}/{s3_path}\")\n",
    "# La donnée peut maintenant être récupéré depuis https://pollution-eau-s3.s3.fr-par.scw.cloud/dev/geojson/georef-france-commune-prelevement.geojson.removeme"
   ]
  },
  {
   "cell_type": "markdown",
   "metadata": {},
   "source": [
    "# Tests\n"
   ]
  },
  {
   "cell_type": "code",
   "execution_count": null,
   "metadata": {},
   "outputs": [],
   "source": [
    "df_geo = pd.DataFrame(new_geo_json[\"features\"])\n",
    "df_geo_flatten = df_geo.join(pd.json_normalize(df_geo[\"properties\"]))\n",
    "df_geo_flatten"
   ]
  },
  {
   "cell_type": "code",
   "execution_count": null,
   "metadata": {},
   "outputs": [],
   "source": [
    "df_geo_flatten.commune_code_insee.unique()"
   ]
  },
  {
   "cell_type": "code",
   "execution_count": null,
   "metadata": {},
   "outputs": [],
   "source": [
    "len(df_geo_flatten[df_geo_flatten[\"resultat_cvm.2024\"].isna()])"
   ]
  },
  {
   "cell_type": "code",
   "execution_count": null,
   "metadata": {},
   "outputs": [],
   "source": [
    "# s3.delete_object(\"dev/geojson/georef-france-commune-prelevement.csv\")"
   ]
  },
  {
   "cell_type": "code",
   "execution_count": null,
   "metadata": {},
   "outputs": [],
   "source": [
    "# from pipelines.tasks.config.common import download_file_from_https\n",
    "\n",
    "# download_file_from_https(\n",
    "#     url=\"https://pollution-eau-s3.s3.fr-par.scw.cloud/dev/geojson/georef-france-commune-prelevement-small.geojson.removeme\",\n",
    "#     filepath=\"test.geojson\",\n",
    "# )"
   ]
  },
  {
   "cell_type": "code",
   "execution_count": null,
   "metadata": {},
   "outputs": [],
   "source": [
    "df_geo = pd.DataFrame(data_geo[\"features\"])\n",
    "df_geo_flatten = df_geo.join(pd.json_normalize(df_geo[\"properties\"]))\n",
    "df_geo_flatten.com_code.map(lambda x: len(x) if x is not None else 0).value_counts()"
   ]
  },
  {
   "cell_type": "code",
   "execution_count": null,
   "metadata": {},
   "outputs": [],
   "source": [
    "df_geo_flatten[\n",
    "    df_geo_flatten.dep_code.map(lambda x: x[0] == \"2A\" if len(x) == 1 else False)\n",
    "].com_code"
   ]
  }
 ],
 "metadata": {
  "kernelspec": {
   "display_name": ".venv",
   "language": "python",
   "name": "python3"
  },
  "language_info": {
   "codemirror_mode": {
    "name": "ipython",
    "version": 3
   },
   "file_extension": ".py",
   "mimetype": "text/x-python",
   "name": "python",
   "nbconvert_exporter": "python",
   "pygments_lexer": "ipython3",
   "version": "3.12.7"
  }
 },
 "nbformat": 4,
 "nbformat_minor": 2
}
